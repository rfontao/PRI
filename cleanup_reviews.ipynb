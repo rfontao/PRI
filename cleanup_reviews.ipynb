{
 "cells": [
  {
   "cell_type": "code",
   "execution_count": 1,
   "metadata": {},
   "outputs": [],
   "source": [
    "import pandas as pd\n"
   ]
  },
  {
   "cell_type": "code",
   "execution_count": 6,
   "metadata": {},
   "outputs": [
    {
     "data": {
      "text/html": [
       "<div>\n",
       "<style scoped>\n",
       "    .dataframe tbody tr th:only-of-type {\n",
       "        vertical-align: middle;\n",
       "    }\n",
       "\n",
       "    .dataframe tbody tr th {\n",
       "        vertical-align: top;\n",
       "    }\n",
       "\n",
       "    .dataframe thead th {\n",
       "        text-align: right;\n",
       "    }\n",
       "</style>\n",
       "<table border=\"1\" class=\"dataframe\">\n",
       "  <thead>\n",
       "    <tr style=\"text-align: right;\">\n",
       "      <th></th>\n",
       "      <th>reviewer</th>\n",
       "      <th>movie</th>\n",
       "      <th>rating</th>\n",
       "      <th>review_summary</th>\n",
       "      <th>review_date</th>\n",
       "      <th>spoiler_tag</th>\n",
       "      <th>review_detail</th>\n",
       "      <th>helpful</th>\n",
       "    </tr>\n",
       "    <tr>\n",
       "      <th>review_id</th>\n",
       "      <th></th>\n",
       "      <th></th>\n",
       "      <th></th>\n",
       "      <th></th>\n",
       "      <th></th>\n",
       "      <th></th>\n",
       "      <th></th>\n",
       "      <th></th>\n",
       "    </tr>\n",
       "  </thead>\n",
       "  <tbody>\n",
       "    <tr>\n",
       "      <th>rw5704482</th>\n",
       "      <td>raeldor-96879</td>\n",
       "      <td>After Life</td>\n",
       "      <td>9.0</td>\n",
       "      <td>Very Strong Season 2</td>\n",
       "      <td>3 May 2020</td>\n",
       "      <td>0</td>\n",
       "      <td>I enjoyed the first season, but I must say I t...</td>\n",
       "      <td>['1', '1']</td>\n",
       "    </tr>\n",
       "    <tr>\n",
       "      <th>rw5704483</th>\n",
       "      <td>dosleeb</td>\n",
       "      <td>The Valhalla Murders</td>\n",
       "      <td>6.0</td>\n",
       "      <td>Icelandic detectives?</td>\n",
       "      <td>3 May 2020</td>\n",
       "      <td>0</td>\n",
       "      <td>I know Iceland is a small country and police d...</td>\n",
       "      <td>['2', '2']</td>\n",
       "    </tr>\n",
       "    <tr>\n",
       "      <th>rw5704493</th>\n",
       "      <td>UniqueParticle</td>\n",
       "      <td>Unstoppable</td>\n",
       "      <td>8.0</td>\n",
       "      <td>Excellent last film of legendary Director Tony...</td>\n",
       "      <td>3 May 2020</td>\n",
       "      <td>0</td>\n",
       "      <td>A suspenseful thrilling adventure about a loos...</td>\n",
       "      <td>['3', '4']</td>\n",
       "    </tr>\n",
       "    <tr>\n",
       "      <th>rw5704496</th>\n",
       "      <td>Hellooo1234321</td>\n",
       "      <td>Dangerous Lies</td>\n",
       "      <td>NaN</td>\n",
       "      <td>Not bad</td>\n",
       "      <td>3 May 2020</td>\n",
       "      <td>0</td>\n",
       "      <td>Highlight was Camila Mendes exceptional acting...</td>\n",
       "      <td>['2', '3']</td>\n",
       "    </tr>\n",
       "    <tr>\n",
       "      <th>rw5704507</th>\n",
       "      <td>indieevan</td>\n",
       "      <td>The Master</td>\n",
       "      <td>8.0</td>\n",
       "      <td>Great Potential, Less Great Execution</td>\n",
       "      <td>3 May 2020</td>\n",
       "      <td>0</td>\n",
       "      <td>The premise was a 10, but the execution left a...</td>\n",
       "      <td>['1', '1']</td>\n",
       "    </tr>\n",
       "  </tbody>\n",
       "</table>\n",
       "</div>"
      ],
      "text/plain": [
       "                 reviewer                 movie  rating  \\\n",
       "review_id                                                 \n",
       "rw5704482   raeldor-96879            After Life     9.0   \n",
       "rw5704483         dosleeb  The Valhalla Murders     6.0   \n",
       "rw5704493  UniqueParticle           Unstoppable     8.0   \n",
       "rw5704496  Hellooo1234321        Dangerous Lies     NaN   \n",
       "rw5704507       indieevan            The Master     8.0   \n",
       "\n",
       "                                              review_summary review_date  \\\n",
       "review_id                                                                  \n",
       "rw5704482                               Very Strong Season 2  3 May 2020   \n",
       "rw5704483                              Icelandic detectives?  3 May 2020   \n",
       "rw5704493  Excellent last film of legendary Director Tony...  3 May 2020   \n",
       "rw5704496                                            Not bad  3 May 2020   \n",
       "rw5704507              Great Potential, Less Great Execution  3 May 2020   \n",
       "\n",
       "           spoiler_tag                                      review_detail  \\\n",
       "review_id                                                                   \n",
       "rw5704482            0  I enjoyed the first season, but I must say I t...   \n",
       "rw5704483            0  I know Iceland is a small country and police d...   \n",
       "rw5704493            0  A suspenseful thrilling adventure about a loos...   \n",
       "rw5704496            0  Highlight was Camila Mendes exceptional acting...   \n",
       "rw5704507            0  The premise was a 10, but the execution left a...   \n",
       "\n",
       "              helpful  \n",
       "review_id              \n",
       "rw5704482  ['1', '1']  \n",
       "rw5704483  ['2', '2']  \n",
       "rw5704493  ['3', '4']  \n",
       "rw5704496  ['2', '3']  \n",
       "rw5704507  ['1', '1']  "
      ]
     },
     "execution_count": 6,
     "metadata": {},
     "output_type": "execute_result"
    }
   ],
   "source": [
    "reviews = pd.read_csv('data/reviews.csv', index_col='review_id')\n",
    "reviews.head()"
   ]
  },
  {
   "cell_type": "markdown",
   "metadata": {},
   "source": [
    "# Null values"
   ]
  },
  {
   "cell_type": "code",
   "execution_count": 3,
   "metadata": {},
   "outputs": [
    {
     "ename": "NameError",
     "evalue": "name 'titles' is not defined",
     "output_type": "error",
     "traceback": [
      "\u001b[1;31m---------------------------------------------------------------------------\u001b[0m",
      "\u001b[1;31mNameError\u001b[0m                                 Traceback (most recent call last)",
      "\u001b[1;32m<ipython-input-3-37cb934b0a98>\u001b[0m in \u001b[0;36m<module>\u001b[1;34m\u001b[0m\n\u001b[1;32m----> 1\u001b[1;33m \u001b[0mreviews\u001b[0m\u001b[1;33m[\u001b[0m\u001b[0mtitles\u001b[0m\u001b[1;33m.\u001b[0m\u001b[0misna\u001b[0m\u001b[1;33m(\u001b[0m\u001b[1;33m)\u001b[0m\u001b[1;33m.\u001b[0m\u001b[0many\u001b[0m\u001b[1;33m(\u001b[0m\u001b[0maxis\u001b[0m\u001b[1;33m=\u001b[0m\u001b[1;36m1\u001b[0m\u001b[1;33m)\u001b[0m\u001b[1;33m]\u001b[0m\u001b[1;33m\u001b[0m\u001b[1;33m\u001b[0m\u001b[0m\n\u001b[0m",
      "\u001b[1;31mNameError\u001b[0m: name 'titles' is not defined"
     ]
    }
   ],
   "source": [
    "reviews[titles.isna().any(axis=1)]"
   ]
  },
  {
   "cell_type": "code",
   "execution_count": null,
   "metadata": {},
   "outputs": [
    {
     "data": {
      "text/plain": [
       "6.0641891891891895"
      ]
     },
     "execution_count": 19,
     "metadata": {},
     "output_type": "execute_result"
    }
   ],
   "source": [
    "reviews[reviews['movie']=='Bee Movie']['rating'].mean()"
   ]
  },
  {
   "cell_type": "code",
   "execution_count": null,
   "metadata": {},
   "outputs": [
    {
     "data": {
      "text/plain": [
       "array(['A masterpiece of a meme! My entire will to live summed up in 2 hours of glorious BEE! This masterpiece has given hope to millions of dying people!\\nYA LIKE JAZZ?'],\n",
       "      dtype=object)"
      ]
     },
     "execution_count": 18,
     "metadata": {},
     "output_type": "execute_result"
    }
   ],
   "source": [
    "reviews[reviews['review_id']=='rw5528629']['review_detail'].values"
   ]
  },
  {
   "cell_type": "code",
   "execution_count": null,
   "metadata": {},
   "outputs": [
    {
     "data": {
      "text/plain": [
       "6.407843137254902"
      ]
     },
     "execution_count": 21,
     "metadata": {},
     "output_type": "execute_result"
    }
   ],
   "source": [
    "reviews[reviews['movie']=='Person of Interest']['rating'].mean()"
   ]
  },
  {
   "cell_type": "code",
   "execution_count": null,
   "metadata": {},
   "outputs": [],
   "source": []
  },
  {
   "cell_type": "code",
   "execution_count": null,
   "metadata": {},
   "outputs": [],
   "source": []
  }
 ],
 "metadata": {
  "interpreter": {
   "hash": "63fd5069d213b44bf678585dea6b12cceca9941eaf7f819626cde1f2670de90d"
  },
  "kernelspec": {
   "display_name": "Python 3.9.6 64-bit",
   "name": "python3"
  },
  "language_info": {
   "codemirror_mode": {
    "name": "ipython",
    "version": 3
   },
   "file_extension": ".py",
   "mimetype": "text/x-python",
   "name": "python",
   "nbconvert_exporter": "python",
   "pygments_lexer": "ipython3",
   "version": "3.9.6"
  },
  "orig_nbformat": 4
 },
 "nbformat": 4,
 "nbformat_minor": 2
}
