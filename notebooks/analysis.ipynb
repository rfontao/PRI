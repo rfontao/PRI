{
 "cells": [
  {
   "cell_type": "code",
   "execution_count": 47,
   "metadata": {},
   "outputs": [],
   "source": [
    "%matplotlib inline\n",
    "import matplotlib.pyplot as plt\n",
    "import pandas as pd\n",
    "import seaborn as sns\n",
    "import numpy as np\n",
    "\n",
    "plt.style.use('../netflix.mplstyle')\n",
    "palette = {'primary': '#221f1f', 'secondary': '#b20710', 'accent': '#e50914', 'tertiary': '#f5f5f1'}"
   ]
  },
  {
   "cell_type": "code",
   "execution_count": 40,
   "metadata": {},
   "outputs": [
    {
     "data": {
      "text/html": [
       "<div>\n",
       "<style scoped>\n",
       "    .dataframe tbody tr th:only-of-type {\n",
       "        vertical-align: middle;\n",
       "    }\n",
       "\n",
       "    .dataframe tbody tr th {\n",
       "        vertical-align: top;\n",
       "    }\n",
       "\n",
       "    .dataframe thead th {\n",
       "        text-align: right;\n",
       "    }\n",
       "</style>\n",
       "<table border=\"1\" class=\"dataframe\">\n",
       "  <thead>\n",
       "    <tr style=\"text-align: right;\">\n",
       "      <th></th>\n",
       "      <th>reviewer</th>\n",
       "      <th>movie</th>\n",
       "      <th>rating</th>\n",
       "      <th>review_summary</th>\n",
       "      <th>review_date</th>\n",
       "      <th>spoiler_tag</th>\n",
       "      <th>review_detail</th>\n",
       "      <th>helpful</th>\n",
       "    </tr>\n",
       "    <tr>\n",
       "      <th>review_id</th>\n",
       "      <th></th>\n",
       "      <th></th>\n",
       "      <th></th>\n",
       "      <th></th>\n",
       "      <th></th>\n",
       "      <th></th>\n",
       "      <th></th>\n",
       "      <th></th>\n",
       "    </tr>\n",
       "  </thead>\n",
       "  <tbody>\n",
       "    <tr>\n",
       "      <th>5704482</th>\n",
       "      <td>raeldor-96879</td>\n",
       "      <td>After Life</td>\n",
       "      <td>9.0</td>\n",
       "      <td>Very Strong Season 2</td>\n",
       "      <td>3 May 2020</td>\n",
       "      <td>0</td>\n",
       "      <td>I enjoyed the first season, but I must say I t...</td>\n",
       "      <td>['1', '1']</td>\n",
       "    </tr>\n",
       "    <tr>\n",
       "      <th>5704483</th>\n",
       "      <td>dosleeb</td>\n",
       "      <td>The Valhalla Murders</td>\n",
       "      <td>6.0</td>\n",
       "      <td>Icelandic detectives?</td>\n",
       "      <td>3 May 2020</td>\n",
       "      <td>0</td>\n",
       "      <td>I know Iceland is a small country and police d...</td>\n",
       "      <td>['2', '2']</td>\n",
       "    </tr>\n",
       "    <tr>\n",
       "      <th>5704493</th>\n",
       "      <td>UniqueParticle</td>\n",
       "      <td>Unstoppable</td>\n",
       "      <td>8.0</td>\n",
       "      <td>Excellent last film of legendary Director Tony...</td>\n",
       "      <td>3 May 2020</td>\n",
       "      <td>0</td>\n",
       "      <td>A suspenseful thrilling adventure about a loos...</td>\n",
       "      <td>['3', '4']</td>\n",
       "    </tr>\n",
       "    <tr>\n",
       "      <th>5704496</th>\n",
       "      <td>Hellooo1234321</td>\n",
       "      <td>Dangerous Lies</td>\n",
       "      <td>NaN</td>\n",
       "      <td>Not bad</td>\n",
       "      <td>3 May 2020</td>\n",
       "      <td>0</td>\n",
       "      <td>Highlight was Camila Mendes exceptional acting...</td>\n",
       "      <td>['2', '3']</td>\n",
       "    </tr>\n",
       "    <tr>\n",
       "      <th>5704507</th>\n",
       "      <td>indieevan</td>\n",
       "      <td>The Master</td>\n",
       "      <td>8.0</td>\n",
       "      <td>Great Potential, Less Great Execution</td>\n",
       "      <td>3 May 2020</td>\n",
       "      <td>0</td>\n",
       "      <td>The premise was a 10, but the execution left a...</td>\n",
       "      <td>['1', '1']</td>\n",
       "    </tr>\n",
       "  </tbody>\n",
       "</table>\n",
       "</div>"
      ],
      "text/plain": [
       "                 reviewer                 movie  rating  \\\n",
       "review_id                                                 \n",
       "5704482     raeldor-96879            After Life     9.0   \n",
       "5704483           dosleeb  The Valhalla Murders     6.0   \n",
       "5704493    UniqueParticle           Unstoppable     8.0   \n",
       "5704496    Hellooo1234321        Dangerous Lies     NaN   \n",
       "5704507         indieevan            The Master     8.0   \n",
       "\n",
       "                                              review_summary review_date  \\\n",
       "review_id                                                                  \n",
       "5704482                                 Very Strong Season 2  3 May 2020   \n",
       "5704483                                Icelandic detectives?  3 May 2020   \n",
       "5704493    Excellent last film of legendary Director Tony...  3 May 2020   \n",
       "5704496                                              Not bad  3 May 2020   \n",
       "5704507                Great Potential, Less Great Execution  3 May 2020   \n",
       "\n",
       "           spoiler_tag                                      review_detail  \\\n",
       "review_id                                                                   \n",
       "5704482              0  I enjoyed the first season, but I must say I t...   \n",
       "5704483              0  I know Iceland is a small country and police d...   \n",
       "5704493              0  A suspenseful thrilling adventure about a loos...   \n",
       "5704496              0  Highlight was Camila Mendes exceptional acting...   \n",
       "5704507              0  The premise was a 10, but the execution left a...   \n",
       "\n",
       "              helpful  \n",
       "review_id              \n",
       "5704482    ['1', '1']  \n",
       "5704483    ['2', '2']  \n",
       "5704493    ['3', '4']  \n",
       "5704496    ['2', '3']  \n",
       "5704507    ['1', '1']  "
      ]
     },
     "execution_count": 40,
     "metadata": {},
     "output_type": "execute_result"
    }
   ],
   "source": [
    "reviews = pd.read_csv('../data/reviews_clean.csv', index_col='review_id')\n",
    "reviews.head()"
   ]
  },
  {
   "cell_type": "code",
   "execution_count": 41,
   "metadata": {},
   "outputs": [
    {
     "data": {
      "text/html": [
       "<div>\n",
       "<style scoped>\n",
       "    .dataframe tbody tr th:only-of-type {\n",
       "        vertical-align: middle;\n",
       "    }\n",
       "\n",
       "    .dataframe tbody tr th {\n",
       "        vertical-align: top;\n",
       "    }\n",
       "\n",
       "    .dataframe thead th {\n",
       "        text-align: right;\n",
       "    }\n",
       "</style>\n",
       "<table border=\"1\" class=\"dataframe\">\n",
       "  <thead>\n",
       "    <tr style=\"text-align: right;\">\n",
       "      <th></th>\n",
       "      <th>type</th>\n",
       "      <th>title</th>\n",
       "      <th>director</th>\n",
       "      <th>cast</th>\n",
       "      <th>country</th>\n",
       "      <th>date_added</th>\n",
       "      <th>release_year</th>\n",
       "      <th>rating</th>\n",
       "      <th>duration</th>\n",
       "      <th>listed_in</th>\n",
       "      <th>description</th>\n",
       "    </tr>\n",
       "    <tr>\n",
       "      <th>show_id</th>\n",
       "      <th></th>\n",
       "      <th></th>\n",
       "      <th></th>\n",
       "      <th></th>\n",
       "      <th></th>\n",
       "      <th></th>\n",
       "      <th></th>\n",
       "      <th></th>\n",
       "      <th></th>\n",
       "      <th></th>\n",
       "      <th></th>\n",
       "    </tr>\n",
       "  </thead>\n",
       "  <tbody>\n",
       "    <tr>\n",
       "      <th>1</th>\n",
       "      <td>Movie</td>\n",
       "      <td>Dick Johnson Is Dead</td>\n",
       "      <td>Kirsten Johnson</td>\n",
       "      <td>NaN</td>\n",
       "      <td>United States</td>\n",
       "      <td>September 25, 2021</td>\n",
       "      <td>2020</td>\n",
       "      <td>PG-13</td>\n",
       "      <td>90</td>\n",
       "      <td>Documentaries</td>\n",
       "      <td>As her father nears the end of his life, filmm...</td>\n",
       "    </tr>\n",
       "    <tr>\n",
       "      <th>2</th>\n",
       "      <td>TV Show</td>\n",
       "      <td>Blood &amp; Water</td>\n",
       "      <td>NaN</td>\n",
       "      <td>Ama Qamata, Khosi Ngema, Gail Mabalane, Thaban...</td>\n",
       "      <td>South Africa</td>\n",
       "      <td>September 24, 2021</td>\n",
       "      <td>2021</td>\n",
       "      <td>TV-MA</td>\n",
       "      <td>2</td>\n",
       "      <td>International TV Shows, TV Dramas, TV Mysteries</td>\n",
       "      <td>After crossing paths at a party, a Cape Town t...</td>\n",
       "    </tr>\n",
       "    <tr>\n",
       "      <th>3</th>\n",
       "      <td>TV Show</td>\n",
       "      <td>Ganglands</td>\n",
       "      <td>Julien Leclercq</td>\n",
       "      <td>Sami Bouajila, Tracy Gotoas, Samuel Jouy, Nabi...</td>\n",
       "      <td>NaN</td>\n",
       "      <td>September 24, 2021</td>\n",
       "      <td>2021</td>\n",
       "      <td>TV-MA</td>\n",
       "      <td>1</td>\n",
       "      <td>Crime TV Shows, International TV Shows, TV Act...</td>\n",
       "      <td>To protect his family from a powerful drug lor...</td>\n",
       "    </tr>\n",
       "    <tr>\n",
       "      <th>4</th>\n",
       "      <td>TV Show</td>\n",
       "      <td>Jailbirds New Orleans</td>\n",
       "      <td>NaN</td>\n",
       "      <td>NaN</td>\n",
       "      <td>NaN</td>\n",
       "      <td>September 24, 2021</td>\n",
       "      <td>2021</td>\n",
       "      <td>TV-MA</td>\n",
       "      <td>1</td>\n",
       "      <td>Docuseries, Reality TV</td>\n",
       "      <td>Feuds, flirtations and toilet talk go down amo...</td>\n",
       "    </tr>\n",
       "    <tr>\n",
       "      <th>5</th>\n",
       "      <td>TV Show</td>\n",
       "      <td>Kota Factory</td>\n",
       "      <td>NaN</td>\n",
       "      <td>Mayur More, Jitendra Kumar, Ranjan Raj, Alam K...</td>\n",
       "      <td>India</td>\n",
       "      <td>September 24, 2021</td>\n",
       "      <td>2021</td>\n",
       "      <td>TV-MA</td>\n",
       "      <td>2</td>\n",
       "      <td>International TV Shows, Romantic TV Shows, TV ...</td>\n",
       "      <td>In a city of coaching centers known to train I...</td>\n",
       "    </tr>\n",
       "  </tbody>\n",
       "</table>\n",
       "</div>"
      ],
      "text/plain": [
       "            type                  title         director  \\\n",
       "show_id                                                    \n",
       "1          Movie   Dick Johnson Is Dead  Kirsten Johnson   \n",
       "2        TV Show          Blood & Water              NaN   \n",
       "3        TV Show              Ganglands  Julien Leclercq   \n",
       "4        TV Show  Jailbirds New Orleans              NaN   \n",
       "5        TV Show           Kota Factory              NaN   \n",
       "\n",
       "                                                      cast        country  \\\n",
       "show_id                                                                     \n",
       "1                                                      NaN  United States   \n",
       "2        Ama Qamata, Khosi Ngema, Gail Mabalane, Thaban...   South Africa   \n",
       "3        Sami Bouajila, Tracy Gotoas, Samuel Jouy, Nabi...            NaN   \n",
       "4                                                      NaN            NaN   \n",
       "5        Mayur More, Jitendra Kumar, Ranjan Raj, Alam K...          India   \n",
       "\n",
       "                 date_added  release_year rating  duration  \\\n",
       "show_id                                                      \n",
       "1        September 25, 2021          2020  PG-13        90   \n",
       "2        September 24, 2021          2021  TV-MA         2   \n",
       "3        September 24, 2021          2021  TV-MA         1   \n",
       "4        September 24, 2021          2021  TV-MA         1   \n",
       "5        September 24, 2021          2021  TV-MA         2   \n",
       "\n",
       "                                                 listed_in  \\\n",
       "show_id                                                      \n",
       "1                                            Documentaries   \n",
       "2          International TV Shows, TV Dramas, TV Mysteries   \n",
       "3        Crime TV Shows, International TV Shows, TV Act...   \n",
       "4                                   Docuseries, Reality TV   \n",
       "5        International TV Shows, Romantic TV Shows, TV ...   \n",
       "\n",
       "                                               description  \n",
       "show_id                                                     \n",
       "1        As her father nears the end of his life, filmm...  \n",
       "2        After crossing paths at a party, a Cape Town t...  \n",
       "3        To protect his family from a powerful drug lor...  \n",
       "4        Feuds, flirtations and toilet talk go down amo...  \n",
       "5        In a city of coaching centers known to train I...  "
      ]
     },
     "execution_count": 41,
     "metadata": {},
     "output_type": "execute_result"
    }
   ],
   "source": [
    "titles = pd.read_csv('../data/netflix_titles_clean.csv', index_col='show_id')\n",
    "titles.head()"
   ]
  },
  {
   "cell_type": "code",
   "execution_count": 56,
   "metadata": {},
   "outputs": [],
   "source": [
    "movies = titles[titles['type']=='Movie']\n",
    "shows = titles[titles['type']=='TV Show']"
   ]
  },
  {
   "cell_type": "code",
   "execution_count": 58,
   "metadata": {},
   "outputs": [
    {
     "data": {
      "text/plain": [
       "<matplotlib.legend.Legend at 0x21c32d9b640>"
      ]
     },
     "execution_count": 58,
     "metadata": {},
     "output_type": "execute_result"
    },
    {
     "data": {
      "image/png": "[encoded data removed]",
      "text/plain": [
       "<Figure size 576x396 with 1 Axes>"
      ]
     },
     "metadata": {},
     "output_type": "display_data"
    }
   ],
   "source": [
    "tv_rating_order = ('TV-Y', 'TV-Y7', 'TV-Y7-FV', 'TV-G', 'TV-PG', 'TV-14', 'TV-MA')\n",
    "tv_rating_meanings = ('All Children', 'Directed to Older Children', 'Directed to Older Children, Fantasy Violence', 'General Audience', 'Parental Guidance Suggested', 'Parents Strongly Cautioned', 'Mature Audience Only')\n",
    "\n",
    "fig, ax = plt.subplots()\n",
    "movies['rating'].value_counts().plot(kind='bar', ax=ax, alpha=0.75, color=palette['secondary'], label='Movies')\n",
    "shows['rating'].value_counts().plot(kind='bar', ax=ax, label='TV Shows')\n",
    "\n",
    "ax.set_title('Titles by maturity rating')\n",
    "ax.set_xlabel('Maturity rating')\n",
    "ax.set_ylabel('Count')\n",
    "\n",
    "ax.bar_label(ax.containers[0])\n",
    "ax.bar_label(ax.containers[1], color=palette['tertiary'])\n",
    "\n",
    "ax.legend()"
   ]
  },
  {
   "cell_type": "code",
   "execution_count": 62,
   "metadata": {},
   "outputs": [
    {
     "data": {
      "image/png": "[encoded data removed]",
      "text/plain": [
       "<Figure size 864x288 with 2 Axes>"
      ]
     },
     "metadata": {},
     "output_type": "display_data"
    }
   ],
   "source": [
    "fig, axs = plt.subplots(1, 2, figsize=(12, 4))\n",
    "ax1, ax2 = axs\n",
    "\n",
    "sns.histplot(movies['duration'], bins=20, ax=ax1, kde=True, color=palette['secondary'])\n",
    "ax1.set_title('Movies by duration')\n",
    "ax1.set_xlabel('Duration (min)')\n",
    "\n",
    "shows.groupby('duration').count()['title'].plot(kind='bar', ax=ax2, color=palette['secondary'])\n",
    "ax2.set_title('Shows by number of Seasons')\n",
    "ax2.set_xlabel('Number of Seasons')\n",
    "\n",
    "for container in ax2.containers:\n",
    "    ax2.bar_label(container)"
   ]
  },
  {
   "cell_type": "markdown",
   "metadata": {},
   "source": [
    "# Number of reviews per reviewer"
   ]
  },
  {
   "cell_type": "code",
   "execution_count": 67,
   "metadata": {},
   "outputs": [
    {
     "data": {
      "text/plain": [
       "count    478952.000000\n",
       "mean          1.898844\n",
       "std           8.166090\n",
       "min           1.000000\n",
       "25%           1.000000\n",
       "50%           1.000000\n",
       "75%           1.000000\n",
       "max        1588.000000\n",
       "Name: movie, dtype: float64"
      ]
     },
     "execution_count": 67,
     "metadata": {},
     "output_type": "execute_result"
    }
   ],
   "source": [
    "reviews.groupby('reviewer').count()['movie'].describe()"
   ]
  },
  {
   "cell_type": "markdown",
   "metadata": {},
   "source": [
    "Reviewer with the most reviews"
   ]
  },
  {
   "cell_type": "code",
   "execution_count": 71,
   "metadata": {},
   "outputs": [
    {
     "data": {
      "text/plain": [
       "reviewer\n",
       "SnoopyStyle    1588\n",
       "Name: movie, dtype: int64"
      ]
     },
     "execution_count": 71,
     "metadata": {},
     "output_type": "execute_result"
    }
   ],
   "source": [
    "review_count = reviews.groupby('reviewer').count()['movie']\n",
    "review_count[review_count == review_count.max()]\n"
   ]
  }
 ],
 "metadata": {
  "interpreter": {
   "hash": "63fd5069d213b44bf678585dea6b12cceca9941eaf7f819626cde1f2670de90d"
  },
  "kernelspec": {
   "display_name": "Python 3.9.6 64-bit",
   "name": "python3"
  },
  "language_info": {
   "codemirror_mode": {
    "name": "ipython",
    "version": 3
   },
   "file_extension": ".py",
   "mimetype": "text/x-python",
   "name": "python",
   "nbconvert_exporter": "python",
   "pygments_lexer": "ipython3",
   "version": "3.9.6"
  },
  "orig_nbformat": 4
 },
 "nbformat": 4,
 "nbformat_minor": 2
}
